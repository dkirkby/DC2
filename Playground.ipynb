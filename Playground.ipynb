{
 "cells": [
  {
   "cell_type": "markdown",
   "metadata": {},
   "source": [
    "# DC2 Playground"
   ]
  },
  {
   "cell_type": "code",
   "execution_count": 1,
   "metadata": {},
   "outputs": [
    {
     "name": "stdout",
     "output_type": "stream",
     "text": [
      "Populating the interactive namespace from numpy and matplotlib\n"
     ]
    }
   ],
   "source": [
    "%pylab inline"
   ]
  },
  {
   "cell_type": "code",
   "execution_count": 2,
   "metadata": {},
   "outputs": [],
   "source": [
    "import pathlib"
   ]
  },
  {
   "cell_type": "code",
   "execution_count": 3,
   "metadata": {},
   "outputs": [],
   "source": [
    "import torch\n",
    "import torch.utils.data"
   ]
  },
  {
   "cell_type": "code",
   "execution_count": 4,
   "metadata": {},
   "outputs": [],
   "source": [
    "import fitsio"
   ]
  },
  {
   "cell_type": "markdown",
   "metadata": {},
   "source": [
    "## Locate Data\n",
    "\n",
    "The data consists of simulated `calexp` images, one per sensor (with 189 sensors in the full focal plane - details [here](https://confluence.lsstcorp.org/display/LSWUG/Representation+of+a+Camera)). File names are:\n",
    "```\n",
    "calexp_<visit-number>-<band>-<raft>-<sensor>-<detector>.fits\n",
    "```"
   ]
  },
  {
   "cell_type": "code",
   "execution_count": 5,
   "metadata": {},
   "outputs": [],
   "source": [
    "class CalExpData(torch.utils.data.Dataset):\n",
    "    \"\"\"Wrapper for a directory containing a full focal plane of CalExps.\n",
    "    \"\"\"\n",
    "    def __init__(self, path, stamp_size=48, stride=1, frac_lo=0., frac_hi=1., seed=123):\n",
    "        self.path = pathlib.Path(path)\n",
    "        assert self.path.exists()\n",
    "        all_files = list(self.path.glob('*/calexp_*.fits'))\n",
    "        num_files = len(all_files)\n",
    "        print(f'Found {num_files} calexp images.')\n",
    "        # Shuffle the images.\n",
    "        gen = np.random.RandomState(seed=seed)\n",
    "        gen.shuffle(all_files)\n",
    "        # Use the requested subset.\n",
    "        idx_lo = int(np.floor(frac_lo * num_files))\n",
    "        idx_hi = int(np.floor(frac_hi * num_files))\n",
    "        print(f'Using range [{idx_lo}:{idx_hi}]')\n",
    "        self.files = all_files[idx_lo:idx_hi]\n",
    "        # Determine the number of stamps available per image.\n",
    "        \n",
    "    def __len__(self):\n",
    "        return 0\n",
    "    \n",
    "    def __getitem__(self, idx):\n",
    "        pass"
   ]
  },
  {
   "cell_type": "code",
   "execution_count": 7,
   "metadata": {},
   "outputs": [
    {
     "name": "stdout",
     "output_type": "stream",
     "text": [
      "Found 189 calexp images.\n",
      "Using range [0:189]\n"
     ]
    }
   ],
   "source": [
    "train_data = CalExpData('/media/data1/DESC/DC2/00006854-i', 0., 0.6)"
   ]
  },
  {
   "cell_type": "code",
   "execution_count": 11,
   "metadata": {},
   "outputs": [],
   "source": [
    "fits=fitsio.FITS(str(train_data.files[0]))"
   ]
  },
  {
   "cell_type": "code",
   "execution_count": 12,
   "metadata": {},
   "outputs": [
    {
     "data": {
      "text/plain": [
       "\n",
       "  file: /media/data1/DESC/DC2/00006854-i/R24/calexp_00006854-i-R24-S12-det113.fits\n",
       "  mode: READONLY\n",
       "  extnum hdutype         hduname[v]\n",
       "  0      IMAGE_HDU       \n",
       "  1      IMAGE_HDU       \n",
       "  2      IMAGE_HDU       \n",
       "  3      IMAGE_HDU       \n",
       "  4      BINARY_TBL      \n",
       "  5      BINARY_TBL      \n",
       "  6      BINARY_TBL      \n",
       "  7      BINARY_TBL      \n",
       "  8      BINARY_TBL      \n",
       "  9      BINARY_TBL      \n",
       "  10     BINARY_TBL      \n",
       "  11     BINARY_TBL      \n",
       "  12     BINARY_TBL      \n",
       "  13     BINARY_TBL      \n",
       "  14     BINARY_TBL      \n",
       "  15     BINARY_TBL      "
      ]
     },
     "execution_count": 12,
     "metadata": {},
     "output_type": "execute_result"
    }
   ],
   "source": [
    "fits"
   ]
  },
  {
   "cell_type": "code",
   "execution_count": 18,
   "metadata": {},
   "outputs": [],
   "source": [
    "hdu = fits[1]"
   ]
  },
  {
   "cell_type": "code",
   "execution_count": 21,
   "metadata": {},
   "outputs": [],
   "source": [
    "hdr = hdu.read_header()"
   ]
  },
  {
   "cell_type": "code",
   "execution_count": 22,
   "metadata": {},
   "outputs": [
    {
     "data": {
      "text/plain": [
       "\n",
       "XTENSION= 'BINTABLE'           / binary table extension\n",
       "BITPIX  =                    8 / 8-bit bytes\n",
       "NAXIS   =                    2 / 2-dimensional binary table\n",
       "NAXIS1  =                    8 / width of table in bytes\n",
       "NAXIS2  =                 4000 / number of rows in table\n",
       "PCOUNT  =             59113635 / size of special data area\n",
       "GCOUNT  =                    1 / one data group (required keyword)\n",
       "TFIELDS =                    1 / number of fields in each row\n",
       "TTYPE1  = 'COMPRESSED_DATA'    / label for field   1\n",
       "TFORM1  = '1PB(14834)'         / data format of field: variable length array\n",
       "ZIMAGE  =                    T / extension contains compressed image\n",
       "ZSIMPLE =                    T / file does conform to FITS standard\n",
       "ZBITPIX =                  -32 / data type of original image\n",
       "ZNAXIS  =                    2 / dimension of original image\n",
       "ZNAXIS1 =                 4072 / length of original image axis\n",
       "ZNAXIS2 =                 4000 / length of original image axis\n",
       "ZTILE1  =                 4072 / size of tiles to be compressed\n",
       "ZTILE2  =                    1 / size of tiles to be compressed\n",
       "ZQUANTIZ= 'NONE    '           / Lossless compression without quantization\n",
       "ZCMPTYPE= 'GZIP_2  '           / compression algorithm\n",
       "WCSAXES =                    2 / Number of WCS axes\n",
       "CRPIX1  =          1905.324965 / Reference pixel on axis 1\n",
       "CRPIX2  =          2028.271463 / Reference pixel on axis 2\n",
       "CRVAL1  =     66.8289064158759 / Value at ref. pixel on axis 1\n",
       "CRVAL2  =    -30.9815486338796 / Value at ref. pixel on axis 2\n",
       "CTYPE1  = 'RA---TAN-SIP'       / Type of co-ordinate on axis 1\n",
       "CTYPE2  = 'DEC--TAN-SIP'       / Type of co-ordinate on axis 2\n",
       "CD1_1   =  5.2418596916325E-05 / Transformation matrix element\n",
       "CD1_2   = -1.79971411816786E-05 / Transformation matrix element\n",
       "CD2_1   = -1.7964907480801E-05 / Transformation matrix element\n",
       "CD2_2   = -5.25087808602583E-05 / Transformation matrix element\n",
       "MJD-OBS =     51544.4992571308 / Modified Julian Date of observation\n",
       "DATE-OBS= '2000-01-01T11:58:55.816' / Date of observation\n",
       "RADESYS = 'ICRS    '           / Reference frame for RA/DEC values\n",
       "A_0_2   = 1.58764012173778E-08 / SIP forward distortion coeff\n",
       "A_1_1   = 1.55149480699955E-09 / SIP forward distortion coeff\n",
       "A_2_0   = -1.12229419110138E-07 / SIP forward distortion coeff\n",
       "A_ORDER =                    2 / SIP max order\n",
       "B_0_2   = -4.95845086534324E-09 / SIP forward distortion coeff\n",
       "B_1_1   = -8.11080586388542E-08 / SIP forward distortion coeff\n",
       "B_2_0   = -5.0837374695023E-09 / SIP forward distortion coeff\n",
       "B_ORDER =                    2 / SIP max order\n",
       "AP_0_0  = -1.30029807637191E-08 / SIP inverse distortion coeff\n",
       "AP_0_1  = 2.34050011354013E-13 / SIP inverse distortion coeff\n",
       "AP_0_2  = -1.58764059176071E-08 / SIP inverse distortion coeff\n",
       "AP_0_3  = -1.32820220977435E-16 / SIP inverse distortion coeff\n",
       "AP_1_0  = -9.78361835990427E-12 / SIP inverse distortion coeff\n",
       "AP_1_1  = -1.55149636233491E-09 / SIP inverse distortion coeff\n",
       "AP_1_2  = -6.14499841331111E-15 / SIP inverse distortion coeff\n",
       "AP_2_0  = 1.12229451566694E-07 / SIP inverse distortion coeff\n",
       "AP_2_1  = -8.09793176243207E-16 / SIP inverse distortion coeff\n",
       "AP_3_0  = 2.51871817436682E-14 / SIP inverse distortion coeff\n",
       "AP_ORDER=                    3 / SIP inverse max order\n",
       "BP_0_0  = -2.17338754622156E-09 / SIP inverse distortion coeff\n",
       "BP_0_1  = -1.91113791458974E-12 / SIP inverse distortion coeff\n",
       "BP_0_2  = 4.95845102632149E-09 / SIP inverse distortion coeff\n",
       "BP_0_3  = -1.23863378096077E-15 / SIP inverse distortion coeff\n",
       "BP_1_0  = -8.76366083824876E-13 / SIP inverse distortion coeff\n",
       "BP_1_1  = 8.11080713837014E-08 / SIP inverse distortion coeff\n",
       "BP_1_2  = 9.19291789231286E-16 / SIP inverse distortion coeff\n",
       "BP_2_0  = 5.08374037940821E-09 / SIP inverse distortion coeff\n",
       "BP_2_1  = 1.57176728427231E-14 / SIP inverse distortion coeff\n",
       "BP_3_0  = 1.55371471284965E-15 / SIP inverse distortion coeff\n",
       "BP_ORDER=                    3 / SIP inverse max order\n",
       "LTV1    =                   0.\n",
       "LTV2    =                   0.\n",
       "INHERIT =                    T\n",
       "EXTTYPE = 'IMAGE   '\n",
       "CTYPE1A = 'LINEAR  '           / Type of projection\n",
       "CTYPE2A = 'LINEAR  '           / Type of projection\n",
       "CRPIX1A =                   1. / Column Pixel Coordinate of Reference\n",
       "CRPIX2A =                   1. / Row Pixel Coordinate of Reference\n",
       "CRVAL1A =                   0. / Column pixel of Reference Pixel\n",
       "CRVAL2A =                   0. / Row pixel of Reference Pixel\n",
       "CUNIT1A = 'PIXEL   '           / Column unit\n",
       "CUNIT2A = 'PIXEL   '           / Row unit\n",
       "BZERO   =   0.000000000000E+00 / Scaling: MEMORY = BZERO + BSCALE * DISK\n",
       "BSCALE  =   1.000000000000E+00 / Scaling: MEMORY = BZERO + BSCALE * DISK"
      ]
     },
     "execution_count": 22,
     "metadata": {},
     "output_type": "execute_result"
    }
   ],
   "source": [
    "hdr"
   ]
  },
  {
   "cell_type": "code",
   "execution_count": 9,
   "metadata": {},
   "outputs": [
    {
     "ename": "NameError",
     "evalue": "name 'ext' is not defined",
     "output_type": "error",
     "traceback": [
      "\u001b[0;31m---------------------------------------------------------------------------\u001b[0m",
      "\u001b[0;31mNameError\u001b[0m                                 Traceback (most recent call last)",
      "\u001b[0;32m<ipython-input-9-4e9fa924c00a>\u001b[0m in \u001b[0;36m<module>\u001b[0;34m\u001b[0m\n\u001b[0;32m----> 1\u001b[0;31m \u001b[0mdata\u001b[0m\u001b[0;34m,\u001b[0m \u001b[0mhdr\u001b[0m \u001b[0;34m=\u001b[0m \u001b[0mfitsio\u001b[0m\u001b[0;34m.\u001b[0m\u001b[0mread\u001b[0m\u001b[0;34m(\u001b[0m\u001b[0mtrain_data\u001b[0m\u001b[0;34m.\u001b[0m\u001b[0mfiles\u001b[0m\u001b[0;34m[\u001b[0m\u001b[0;36m0\u001b[0m\u001b[0;34m]\u001b[0m\u001b[0;34m,\u001b[0m \u001b[0mext\u001b[0m\u001b[0;34m=\u001b[0m\u001b[0mext\u001b[0m\u001b[0;34m,\u001b[0m \u001b[0mheader\u001b[0m\u001b[0;34m=\u001b[0m\u001b[0;32mTrue\u001b[0m\u001b[0;34m)\u001b[0m\u001b[0;34m\u001b[0m\u001b[0;34m\u001b[0m\u001b[0m\n\u001b[0m",
      "\u001b[0;31mNameError\u001b[0m: name 'ext' is not defined"
     ]
    }
   ],
   "source": [
    "data, hdr = fitsio.read(train_data.files[0], ext=ext, header=True)"
   ]
  },
  {
   "cell_type": "code",
   "execution_count": 30,
   "metadata": {},
   "outputs": [
    {
     "name": "stdout",
     "output_type": "stream",
     "text": [
      "Found 189 calexp images.\n",
      "Using range [0:189]\n"
     ]
    },
    {
     "data": {
      "text/plain": [
       "<__main__.CalExpData at 0x7f9dd7c899b0>"
      ]
     },
     "execution_count": 30,
     "metadata": {},
     "output_type": "execute_result"
    }
   ],
   "source": [
    "CalExpData('/media/data1/DESC/DC2/00006854-i', 0.6, 0.8)"
   ]
  },
  {
   "cell_type": "code",
   "execution_count": 31,
   "metadata": {},
   "outputs": [
    {
     "name": "stdout",
     "output_type": "stream",
     "text": [
      "Found 189 calexp images.\n",
      "Using range [0:189]\n"
     ]
    },
    {
     "data": {
      "text/plain": [
       "<__main__.CalExpData at 0x7f9dd7c891d0>"
      ]
     },
     "execution_count": 31,
     "metadata": {},
     "output_type": "execute_result"
    }
   ],
   "source": [
    "CalExpData('/media/data1/DESC/DC2/00006854-i', 0.8, 1.)"
   ]
  },
  {
   "cell_type": "code",
   "execution_count": null,
   "metadata": {},
   "outputs": [],
   "source": []
  }
 ],
 "metadata": {
  "kernelspec": {
   "display_name": "Python 3",
   "language": "python",
   "name": "python3"
  },
  "language_info": {
   "codemirror_mode": {
    "name": "ipython",
    "version": 3
   },
   "file_extension": ".py",
   "mimetype": "text/x-python",
   "name": "python",
   "nbconvert_exporter": "python",
   "pygments_lexer": "ipython3",
   "version": "3.6.8"
  }
 },
 "nbformat": 4,
 "nbformat_minor": 2
}
